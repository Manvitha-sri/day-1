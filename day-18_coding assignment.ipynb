{
 "cells": [
  {
   "cell_type": "code",
   "execution_count": 2,
   "id": "1237b00c",
   "metadata": {},
   "outputs": [
    {
     "name": "stdout",
     "output_type": "stream",
     "text": [
      "<class 'pandas.core.frame.DataFrame'>\n",
      "RangeIndex: 505 entries, 0 to 504\n",
      "Data columns (total 7 columns):\n",
      " #   Column         Non-Null Count  Dtype  \n",
      "---  ------         --------------  -----  \n",
      " 0   Booking_ID     505 non-null    int64  \n",
      " 1   Destination    478 non-null    object \n",
      " 2   Package_Price  485 non-null    float64\n",
      " 3   Customer_Age   490 non-null    float64\n",
      " 4   Rating         480 non-null    float64\n",
      " 5   Review_Text    485 non-null    object \n",
      " 6   Travel_Date    495 non-null    object \n",
      "dtypes: float64(3), int64(1), object(3)\n",
      "memory usage: 27.7+ KB\n",
      "None\n",
      "   Booking_ID Destination  Package_Price  Customer_Age  Rating  \\\n",
      "0           1      London         1094.0          21.0     NaN   \n",
      "1           2       Paris          640.0          20.0     NaN   \n",
      "2           3   Singapore         3393.0          42.0     3.0   \n",
      "3           4      London         3555.0          40.0     4.0   \n",
      "4           5       Dubai         2130.0          44.0     2.0   \n",
      "\n",
      "           Review_Text Travel_Date  \n",
      "0  Amazing experience!  2023-01-01  \n",
      "1      Loved the trip!  2023-01-02  \n",
      "2      Could be better  2023-01-03  \n",
      "3  Amazing experience!  2023-01-04  \n",
      "4   Highly recommended  2023-01-05  \n"
     ]
    }
   ],
   "source": [
    "import pandas as pd\n",
    "\n",
    "# Load the dataset\n",
    "file_path = \"Day_18_Tours_and_Travels.csv\"\n",
    "df = pd.read_csv(file_path)\n",
    "\n",
    "# Display basic information\n",
    "print(df.info())\n",
    "print(df.head())\n"
   ]
  },
  {
   "cell_type": "code",
   "execution_count": null,
   "id": "da17dd19",
   "metadata": {},
   "outputs": [],
   "source": []
  },
  {
   "cell_type": "code",
   "execution_count": null,
   "id": "21c4f02a",
   "metadata": {},
   "outputs": [],
   "source": []
  }
 ],
 "metadata": {
  "kernelspec": {
   "display_name": "Python 3 (ipykernel)",
   "language": "python",
   "name": "python3"
  },
  "language_info": {
   "codemirror_mode": {
    "name": "ipython",
    "version": 3
   },
   "file_extension": ".py",
   "mimetype": "text/x-python",
   "name": "python",
   "nbconvert_exporter": "python",
   "pygments_lexer": "ipython3",
   "version": "3.11.5"
  }
 },
 "nbformat": 4,
 "nbformat_minor": 5
}
