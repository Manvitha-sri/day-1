{
 "cells": [
  {
   "cell_type": "code",
   "execution_count": 1,
   "id": "0f07df94",
   "metadata": {},
   "outputs": [
    {
     "name": "stdout",
     "output_type": "stream",
     "text": [
      "Filtered Rows - Sales > 1000:\n",
      "   Region  Sales  Profit  Quantity\n",
      "0   East   1500     300        50\n",
      "2   East   1200     240        40\n",
      "4  North   2000     500       100\n",
      "\n",
      "Filtered Rows - Region is East:\n",
      "   Region  Sales  Profit  Quantity\n",
      "0   East   1500     300        50\n",
      "2   East   1200     240        40\n",
      "\n",
      "DataFrame with New Columns:\n",
      "   Region  Sales  Profit  Quantity  Profit_Per_Unit High_Sales\n",
      "0   East   1500     300        50              6.0        Yes\n",
      "1   West    900     180        30              6.0         No\n",
      "2   East   1200     240        40              6.0        Yes\n",
      "3  South    850     100        25              4.0         No\n",
      "4  North   2000     500       100              5.0        Yes\n"
     ]
    }
   ],
   "source": [
    "import pandas as pd\n",
    "# Example DataFrame\n",
    "data = {\n",
    "    \"Region\": [\"East\", \"West\", \"East\", \"South\", \"North\"],\n",
    "    \"Sales\": [1500, 900, 1200, 850, 2000],\n",
    "    \"Profit\": [300, 180, 240, 100, 500],\n",
    "    \"Quantity\": [50, 30, 40, 25, 100]\n",
    "}\n",
    "\n",
    "df = pd.DataFrame(data)\n",
    "\n",
    "# Data Filtering\n",
    "# 1. Extract all rows where sales are greater than 1000\n",
    "sales_gt_1000 = df[df[\"Sales\"] > 1000]\n",
    "\n",
    "# 2. Find all sales records for a specific region (e.g., \"East\")\n",
    "east_region_sales = df[df[\"Region\"] == \"East\"]\n",
    "\n",
    "# Data Processing\n",
    "# 1. Add a new column, Profit_Per_Unit, calculated as Profit / Quantity\n",
    "df[\"Profit_Per_Unit\"] = df[\"Profit\"] / df[\"Quantity\"]\n",
    "\n",
    "# 2. Create another column, High_Sales, which labels rows as Yes if Sales > 1000, else No\n",
    "df[\"High_Sales\"] = df[\"Sales\"].apply(lambda x: \"Yes\" if x > 1000 else \"No\")\n",
    "\n",
    "# Display Results\n",
    "print(\"Filtered Rows - Sales > 1000:\\n\", sales_gt_1000)\n",
    "print(\"\\nFiltered Rows - Region is East:\\n\", east_region_sales)\n",
    "print(\"\\nDataFrame with New Columns:\\n\", df)\n"
   ]
  },
  {
   "cell_type": "code",
   "execution_count": null,
   "id": "a4383235",
   "metadata": {},
   "outputs": [],
   "source": []
  }
 ],
 "metadata": {
  "kernelspec": {
   "display_name": "Python 3 (ipykernel)",
   "language": "python",
   "name": "python3"
  },
  "language_info": {
   "codemirror_mode": {
    "name": "ipython",
    "version": 3
   },
   "file_extension": ".py",
   "mimetype": "text/x-python",
   "name": "python",
   "nbconvert_exporter": "python",
   "pygments_lexer": "ipython3",
   "version": "3.11.5"
  }
 },
 "nbformat": 4,
 "nbformat_minor": 5
}
