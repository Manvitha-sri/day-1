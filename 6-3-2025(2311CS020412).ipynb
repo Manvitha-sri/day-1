{
 "cells": [
  {
   "cell_type": "code",
   "execution_count": null,
   "id": "f5f0c7e7",
   "metadata": {
    "scrolled": false
   },
   "outputs": [],
   "source": [
    "!pip install streamlit"
   ]
  },
  {
   "cell_type": "code",
   "execution_count": null,
   "id": "1f0004e2",
   "metadata": {},
   "outputs": [],
   "source": [
    "# import libraries\n",
    "import numpy as np\n",
    "import pandas as pd\n",
    "import matplotlib.pyplot as plt\n",
    "import seaborn as sns\n",
    "from sklearn.model_selection import train_test_split\n",
    "from sklearn.tree import DecisionTreeClassifier\n",
    "from sklearn.metrics import accuracy_score,precision_score,recall_score,f1_score,roc_auc_score,confusion_matrix"
   ]
  },
  {
   "cell_type": "code",
   "execution_count": null,
   "id": "3dfa4b95",
   "metadata": {},
   "outputs": [],
   "source": [
    "data=pd.read_csv(r\"C:\\Users\\mathu\\Downloads\\Heart_Disease_Dataset.csv\")"
   ]
  },
  {
   "cell_type": "code",
   "execution_count": null,
   "id": "5f80164a",
   "metadata": {},
   "outputs": [],
   "source": [
    "data.head()"
   ]
  },
  {
   "cell_type": "code",
   "execution_count": null,
   "id": "e856da5c",
   "metadata": {},
   "outputs": [],
   "source": []
  },
  {
   "cell_type": "code",
   "execution_count": null,
   "id": "56332bf5",
   "metadata": {},
   "outputs": [],
   "source": [
    "data.tail()"
   ]
  },
  {
   "cell_type": "code",
   "execution_count": null,
   "id": "3cb6620c",
   "metadata": {},
   "outputs": [],
   "source": [
    "data.info()"
   ]
  },
  {
   "cell_type": "code",
   "execution_count": null,
   "id": "c521aa0a",
   "metadata": {},
   "outputs": [],
   "source": [
    "#statistical analysis\n",
    "data.describe()"
   ]
  },
  {
   "cell_type": "code",
   "execution_count": null,
   "id": "85dce131",
   "metadata": {},
   "outputs": [],
   "source": [
    "data.shape"
   ]
  },
  {
   "cell_type": "code",
   "execution_count": null,
   "id": "781f77ef",
   "metadata": {},
   "outputs": [],
   "source": [
    "#checking the null values\n",
    "data.isnull().sum()"
   ]
  },
  {
   "cell_type": "code",
   "execution_count": null,
   "id": "abacf84f",
   "metadata": {},
   "outputs": [],
   "source": [
    "## duplicate\n",
    "data.duplicated()"
   ]
  },
  {
   "cell_type": "code",
   "execution_count": null,
   "id": "6e483e06",
   "metadata": {},
   "outputs": [],
   "source": [
    "len(data[data.duplicated()])"
   ]
  },
  {
   "cell_type": "code",
   "execution_count": null,
   "id": "5bfa0848",
   "metadata": {},
   "outputs": [],
   "source": [
    "data.columns"
   ]
  },
  {
   "cell_type": "code",
   "execution_count": null,
   "id": "9cf3e13e",
   "metadata": {
    "scrolled": false
   },
   "outputs": [],
   "source": [
    "for column in data.columns:\n",
    "    print(data[column].value_counts())"
   ]
  },
  {
   "cell_type": "code",
   "execution_count": null,
   "id": "cc2a3529",
   "metadata": {},
   "outputs": [],
   "source": [
    "###one hot encoding\n",
    "data=pd.get_dummies(data,columns=['Diabetic'],drop_first=True)\n",
    "data.head()"
   ]
  },
  {
   "cell_type": "code",
   "execution_count": null,
   "id": "7d343f0d",
   "metadata": {},
   "outputs": [],
   "source": [
    "binary_columns=[\"Smoking\",\"AlcoholDrinking\",\"Stroke\",\"DiffWalking\",'PhysicalActivity',\"Asthma\",'KidneyDisease', 'SkinCancer']\n",
    "for col in binary_columns:\n",
    "    data[col]=data[col].map({'Yes':1,\"No\":0})"
   ]
  },
  {
   "cell_type": "code",
   "execution_count": null,
   "id": "d2d96e8d",
   "metadata": {},
   "outputs": [],
   "source": [
    "data.head()"
   ]
  },
  {
   "cell_type": "code",
   "execution_count": null,
   "id": "fb92e7be",
   "metadata": {},
   "outputs": [],
   "source": [
    "data=pd.get_dummies(data,columns=['Sex',\"AgeCategory\",\"Race\",\"GenHealth\"],drop_first=True)\n",
    "data.head()"
   ]
  },
  {
   "cell_type": "code",
   "execution_count": null,
   "id": "e567b5ea",
   "metadata": {
    "scrolled": false
   },
   "outputs": [],
   "source": [
    "#null values\n",
    "data.isnull().sum()"
   ]
  },
  {
   "cell_type": "code",
   "execution_count": null,
   "id": "9ea7b0c8",
   "metadata": {},
   "outputs": [],
   "source": [
    "## define X input and target\n",
    "X=data.drop(columns=['HeartDisease'])\n",
    "y=data['HeartDisease'].map({\"Yes\":1,\"No\":0})"
   ]
  },
  {
   "cell_type": "code",
   "execution_count": null,
   "id": "76270e1c",
   "metadata": {},
   "outputs": [],
   "source": [
    "###train-test split\n",
    "X_train,X_test,y_train,y_test=train_test_split(X,y,test_size=0.20,random_state=42)"
   ]
  },
  {
   "cell_type": "code",
   "execution_count": null,
   "id": "d8fd2df2",
   "metadata": {},
   "outputs": [],
   "source": [
    "clf=DecisionTreeClassifier(max_depth=5,criterion='gini',random_state=42)\n",
    "clf.fit(X_train,y_train)"
   ]
  },
  {
   "cell_type": "code",
   "execution_count": null,
   "id": "68c9cd38",
   "metadata": {},
   "outputs": [],
   "source": [
    "clf=DecisionTreeClassifier(max_depth=5,criterion='entropy',random_state=42)\n",
    "clf.fit(X_train,y_train)"
   ]
  },
  {
   "cell_type": "code",
   "execution_count": null,
   "id": "7eb2c01f",
   "metadata": {},
   "outputs": [],
   "source": [
    "y_pred=clf.predict(X_test) ##make the prediction"
   ]
  },
  {
   "cell_type": "code",
   "execution_count": null,
   "id": "458385a4",
   "metadata": {
    "scrolled": false
   },
   "outputs": [],
   "source": [
    "# Calculate evaluation metrics\n",
    "accuracy = accuracy_score(y_test, y_pred)\n",
    "precision = precision_score(y_test, y_pred)\n",
    "recall = recall_score(y_test, y_pred)\n",
    "f1 = f1_score(y_test, y_pred)\n",
    "roc_auc = roc_auc_score(y_test, y_pred)\n",
    "\n",
    "# Print metrics\n",
    "print(f\"Accuracy: {accuracy:.2f}\")\n",
    "print(f\"Precision: {precision:.2f}\")\n",
    "print(f\"Recall: {recall:.2f}\")\n",
    "print(f\"F1-Score: {f1:.2f}\")\n",
    "print(f\"AUC-ROC: {roc_auc:.2f}\")\n",
    "\n",
    "# Confusion Matrix\n",
    "cm = confusion_matrix(y_test, y_pred)\n",
    "sns.heatmap(cm, annot=True, fmt='d', cmap='Blues')\n",
    "plt.title(\"Confusion Matrix\")\n",
    "plt.xlabel(\"Predicted\")\n",
    "plt.ylabel(\"Actual\")\n",
    "plt.show()"
   ]
  },
  {
   "cell_type": "code",
   "execution_count": null,
   "id": "fd6b1659",
   "metadata": {},
   "outputs": [],
   "source": [
    "%%writefile app.py\n",
    "\n",
    "import streamlit as st\n",
    "import pandas as pd\n",
    "import numpy as np\n",
    "from sklearn.tree import DecisionTreeClassifier\n",
    "from sklearn.model_selection import train_test_split\n",
    "from imblearn.over_sampling import SMOTE\n",
    "\n",
    "# Load and preprocess the dataset\n",
    "data = pd.read_csv('/content/Heart_Disease_Dataset.csv')  # Replace with your actual dataset path\n",
    "\n",
    "# Preprocessing steps\n",
    "binary_columns = ['Smoking', 'AlcoholDrinking', 'Stroke', 'DiffWalking', 'PhysicalActivity', 'Asthma', 'KidneyDisease', 'SkinCancer']\n",
    "for col in binary_columns:\n",
    "    data[col] = data[col].map({'Yes': 1, 'No': 0})\n",
    "\n",
    "# One-hot encode categorical columns\n",
    "data = pd.get_dummies(data, columns=['Sex', 'AgeCategory', 'Race', 'GenHealth', 'Diabetic'], drop_first=True)\n",
    "\n",
    "# Define features and target\n",
    "X = data.drop(columns=['HeartDisease'])\n",
    "y = data['HeartDisease'].map({'Yes': 1, 'No': 0})\n",
    "\n",
    "# Balance the dataset using SMOTE\n",
    "smote = SMOTE(random_state=42)\n",
    "X_resampled, y_resampled = smote.fit_resample(X, y)\n",
    "\n",
    "# Split into train and test sets\n",
    "X_train, X_test, y_train, y_test = train_test_split(X_resampled, y_resampled, test_size=0.2, random_state=42)\n",
    "\n",
    "# Train the Decision Tree Classifier\n",
    "clf = DecisionTreeClassifier(random_state=42)\n",
    "clf.fit(X_train, y_train)\n",
    "\n",
    "# Function to make predictions\n",
    "def predict_heart_disease(input_data):\n",
    "    # Create a DataFrame with the input data\n",
    "    input_df = pd.DataFrame([input_data], columns=X.columns)\n",
    "\n",
    "    # Ensure all columns are present (fill missing columns with 0)\n",
    "    for col in X.columns:\n",
    "        if col not in input_df.columns:\n",
    "            input_df[col] = 0\n",
    "\n",
    "    # Reorder columns to match the model's expectations\n",
    "    input_df = input_df[X.columns]\n",
    "\n",
    "    # Make prediction\n",
    "    prediction = clf.predict(input_df)\n",
    "    return \"Yes\" if prediction[0] == 1 else \"No\"\n",
    "\n",
    "# Streamlit app\n",
    "st.title(\"Heart Disease Prediction\")\n",
    "\n",
    "# Input fields\n",
    "bmi = st.number_input(\"BMI\", min_value=0.0, max_value=100.0, value=25.0)\n",
    "smoking = st.selectbox(\"Smoking\", [0, 1])\n",
    "alcohol_drinking = st.selectbox(\"Alcohol Drinking\", [0, 1])\n",
    "stroke = st.selectbox(\"Stroke\", [0, 1])\n",
    "physical_health = st.number_input(\"Physical Health (Days Not Good in Past 30)\", min_value=0, max_value=30, value=0)\n",
    "mental_health = st.number_input(\"Mental Health (Days Not Good in Past 30)\", min_value=0, max_value=30, value=0)\n",
    "diff_walking = st.selectbox(\"Difficulty Walking\", [0, 1])\n",
    "sex = st.selectbox(\"Sex\", [\"Female\", \"Male\"])\n",
    "age_category = st.selectbox(\"Age Category\", [\"25-29\", \"30-34\", \"35-39\", \"40-44\", \"50-54\", \"70-74\"])\n",
    "race = st.selectbox(\"Race\", [\"White\", \"Hispanic\", \"Black\", \"Asian\", \"American Indian/Alaskan Native\"])\n",
    "diabetic = st.selectbox(\"Diabetic Status\", [\"No\", \"No, borderline diabetes\", \"Yes (during pregnancy)\", \"Yes\"])\n",
    "physical_activity = st.selectbox(\"Physical Activity\", [0, 1])\n",
    "gen_health = st.selectbox(\"General Health\", [\"Poor\", \"Fair\", \"Good\", \"Very Good\", \"Excellent\"])\n",
    "sleep_time = st.number_input(\"Sleep Time (Hours)\", min_value=0, max_value=24, value=7)\n",
    "asthma = st.selectbox(\"Asthma\", [0, 1])\n",
    "kidney_disease = st.selectbox(\"Kidney Disease\", [0, 1])\n",
    "skin_cancer = st.selectbox(\"Skin Cancer\", [0, 1])\n",
    "\n",
    "# Prepare input data\n",
    "input_data = {\n",
    "    'BMI': bmi,\n",
    "    'Smoking': smoking,\n",
    "    'AlcoholDrinking': alcohol_drinking,\n",
    "    'Stroke': stroke,\n",
    "    'PhysicalHealth': physical_health,\n",
    "    'MentalHealth': mental_health,\n",
    "    'DiffWalking': diff_walking,\n",
    "    'Sex_Male': 1 if sex == \"Male\" else 0,\n",
    "    'AgeCategory_30-34': 1 if age_category == \"30-34\" else 0,\n",
    "    'AgeCategory_35-39': 1 if age_category == \"35-39\" else 0,\n",
    "    'AgeCategory_40-44': 1 if age_category == \"40-44\" else 0,\n",
    "    'AgeCategory_50-54': 1 if age_category == \"50-54\" else 0,\n",
    "    'AgeCategory_70-74': 1 if age_category == \"70-74\" else 0,\n",
    "    'Race_Hispanic': 1 if race == \"Hispanic\" else 0,\n",
    "    'Race_Black': 1 if race == \"Black\" else 0,\n",
    "    'Race_Asian': 1 if race == \"Asian\" else 0,\n",
    "    'Race_American Indian/Alaskan Native': 1 if race == \"American Indian/Alaskan Native\" else 0,\n",
    "    'Diabetic_No, borderline diabetes': 1 if diabetic == \"No, borderline diabetes\" else 0,\n",
    "    'Diabetic_Yes (during pregnancy)': 1 if diabetic == \"Yes (during pregnancy)\" else 0,\n",
    "    'Diabetic_Yes': 1 if diabetic == \"Yes\" else 0,\n",
    "    'PhysicalActivity': physical_activity,\n",
    "    'GenHealth_Fair': 1 if gen_health == \"Fair\" else 0,\n",
    "    'GenHealth_Good': 1 if gen_health == \"Good\" else 0,\n",
    "    'GenHealth_Very Good': 1 if gen_health == \"Very Good\" else 0,\n",
    "    'GenHealth_Excellent': 1 if gen_health == \"Excellent\" else 0,\n",
    "    'SleepTime': sleep_time,\n",
    "    'Asthma': asthma,\n",
    "    'KidneyDisease': kidney_disease,\n",
    "    'SkinCancer': skin_cancer\n",
    "}\n",
    "\n",
    "# Predict button\n",
    "if st.button(\"Predict\"):\n",
    "    result = predict_heart_disease(input_data)\n",
    "    st.write(f\"Heart Disease Prediction: {result}\")"
   ]
  },
  {
   "cell_type": "code",
   "execution_count": null,
   "id": "c359872b",
   "metadata": {},
   "outputs": [],
   "source": [
    "!  streamlit run app.py"
   ]
  },
  {
   "cell_type": "code",
   "execution_count": null,
   "id": "850e07e4",
   "metadata": {},
   "outputs": [],
   "source": []
  },
  {
   "cell_type": "code",
   "execution_count": null,
   "id": "32714653",
   "metadata": {},
   "outputs": [],
   "source": []
  }
 ],
 "metadata": {
  "kernelspec": {
   "display_name": "Python 3 (ipykernel)",
   "language": "python",
   "name": "python3"
  },
  "language_info": {
   "codemirror_mode": {
    "name": "ipython",
    "version": 3
   },
   "file_extension": ".py",
   "mimetype": "text/x-python",
   "name": "python",
   "nbconvert_exporter": "python",
   "pygments_lexer": "ipython3",
   "version": "3.11.5"
  }
 },
 "nbformat": 4,
 "nbformat_minor": 5
}
