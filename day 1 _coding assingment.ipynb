{
 "cells": [
  {
   "cell_type": "code",
   "execution_count": 1,
   "id": "f885ab68",
   "metadata": {},
   "outputs": [
    {
     "name": "stdout",
     "output_type": "stream",
     "text": [
      "Integer Value: 10 | Type: <class 'int'>\n",
      "Float Value: 10.5 | Type: <class 'float'>\n",
      "String Value: Hello, Jupyter! | Type: <class 'str'>\n",
      "Boolean Value: True | Type: <class 'bool'>\n"
     ]
    }
   ],
   "source": [
    "my_int = 10\n",
    "my_float = 10.5\n",
    "my_string = \"Hello, Jupyter!\"\n",
    "my_bool = True\n",
    "print(\"Integer Value:\", my_int, \"| Type:\", type(my_int))\n",
    "print(\"Float Value:\", my_float, \"| Type:\", type(my_float))\n",
    "print(\"String Value:\", my_string, \"| Type:\", type(my_string))\n",
    "print(\"Boolean Value:\", my_bool, \"| Type:\", type(my_bool))\n"
   ]
  },
  {
   "cell_type": "code",
   "execution_count": null,
   "id": "02a94167",
   "metadata": {},
   "outputs": [],
   "source": []
  }
 ],
 "metadata": {
  "kernelspec": {
   "display_name": "Python 3 (ipykernel)",
   "language": "python",
   "name": "python3"
  },
  "language_info": {
   "codemirror_mode": {
    "name": "ipython",
    "version": 3
   },
   "file_extension": ".py",
   "mimetype": "text/x-python",
   "name": "python",
   "nbconvert_exporter": "python",
   "pygments_lexer": "ipython3",
   "version": "3.11.5"
  }
 },
 "nbformat": 4,
 "nbformat_minor": 5
}
