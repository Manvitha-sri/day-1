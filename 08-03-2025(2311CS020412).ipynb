{
 "cells": [
  {
   "cell_type": "code",
   "execution_count": 1,
   "id": "4aa2e6d4",
   "metadata": {},
   "outputs": [],
   "source": [
    "##1) mention about problem statement\n",
    "##2) talk about columns\n",
    "##3)install the models and required libraries\n",
    "##4)Load data set\n",
    "##5)understand your data\n",
    "##6)EDA\n",
    "## i)univariate analysis\n",
    "##  ii)Bi-variate analysis\n",
    "##  iii)Multivarivate analysis\n",
    "## 7)check the null-values or missing values\n",
    "## i)treating the null values(fill with mean or median or mode)\n",
    "## ii)drop null values if they are less than 5%-10%\n",
    "##8)check the duplicates\n",
    "## i)drop duplicates\n",
    "##9)treating the ouliers\n",
    "## i)check the outliers\n",
    "## ii)remove outliers\n",
    "## iii)make the box plot before and after the outliers\n",
    "##10)Feature engineering\n",
    "## a)i)extract the features\n",
    "##  ii)create the features\n",
    "##  iii)select the features\n",
    "## b)checking the multicoliniarity\n",
    "## i)heat map\n",
    "## ii)vif technique\n",
    "## c)transformation\n",
    "## i)one hot encoding or label encoding\n",
    "## d)scaling(min_max_scalar)\n",
    "## 11)X-y features split\n",
    "## 12)train test split\n"
   ]
  },
  {
   "cell_type": "code",
   "execution_count": null,
   "id": "31b70e03",
   "metadata": {},
   "outputs": [],
   "source": []
  }
 ],
 "metadata": {
  "kernelspec": {
   "display_name": "Python 3 (ipykernel)",
   "language": "python",
   "name": "python3"
  },
  "language_info": {
   "codemirror_mode": {
    "name": "ipython",
    "version": 3
   },
   "file_extension": ".py",
   "mimetype": "text/x-python",
   "name": "python",
   "nbconvert_exporter": "python",
   "pygments_lexer": "ipython3",
   "version": "3.11.5"
  }
 },
 "nbformat": 4,
 "nbformat_minor": 5
}
