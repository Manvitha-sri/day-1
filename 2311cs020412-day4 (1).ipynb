{
 "cells": [
  {
   "cell_type": "code",
   "execution_count": 2,
   "id": "070c83f9",
   "metadata": {},
   "outputs": [
    {
     "name": "stdout",
     "output_type": "stream",
     "text": [
      "Enter a positive integer: 4\n",
      "The sum of all even numbers between 1 and 4 is: 2\n"
     ]
    }
   ],
   "source": [
    "def sum_of_even_numbers(n):\n",
    "    total_sum = 0\n",
    "    for i in range(1, n + 1):\n",
    "        if i % 2 == 0:  \n",
    "            total_sum += i  \n",
    "            return total_sum\n",
    "n = int(input(\"Enter a positive integer: \"))\n",
    "result = sum_of_even_numbers(n)\n",
    "print(f\"The sum of all even numbers between 1 and {n} is: {result}\")\n"
   ]
  },
  {
   "cell_type": "code",
   "execution_count": null,
   "id": "a3965aa5",
   "metadata": {},
   "outputs": [],
   "source": []
  }
 ],
 "metadata": {
  "kernelspec": {
   "display_name": "Python 3 (ipykernel)",
   "language": "python",
   "name": "python3"
  },
  "language_info": {
   "codemirror_mode": {
    "name": "ipython",
    "version": 3
   },
   "file_extension": ".py",
   "mimetype": "text/x-python",
   "name": "python",
   "nbconvert_exporter": "python",
   "pygments_lexer": "ipython3",
   "version": "3.11.5"
  }
 },
 "nbformat": 4,
 "nbformat_minor": 5
}
