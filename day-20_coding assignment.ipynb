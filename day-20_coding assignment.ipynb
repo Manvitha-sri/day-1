{
 "cells": [
  {
   "cell_type": "code",
   "execution_count": 2,
   "id": "f1bba8c7",
   "metadata": {},
   "outputs": [
    {
     "name": "stdout",
     "output_type": "stream",
     "text": [
      "<class 'pandas.core.frame.DataFrame'>\n",
      "RangeIndex: 505 entries, 0 to 504\n",
      "Data columns (total 7 columns):\n",
      " #   Column            Non-Null Count  Dtype  \n",
      "---  ------            --------------  -----  \n",
      " 0   Order_ID          505 non-null    int64  \n",
      " 1   Product_Category  481 non-null    object \n",
      " 2   Product_Price     485 non-null    float64\n",
      " 3   Customer_Age      490 non-null    float64\n",
      " 4   Rating            480 non-null    float64\n",
      " 5   Review_Text       484 non-null    object \n",
      " 6   Order_Date        495 non-null    object \n",
      "dtypes: float64(3), int64(1), object(3)\n",
      "memory usage: 27.7+ KB\n",
      "None\n",
      "\n",
      "Missing Values Count:\n",
      " Order_ID             0\n",
      "Product_Category    24\n",
      "Product_Price       20\n",
      "Customer_Age        15\n",
      "Rating              25\n",
      "Review_Text         21\n",
      "Order_Date          10\n",
      "dtype: int64\n",
      "\n",
      "Missing Values Percentage:\n",
      " Order_ID            0.000000\n",
      "Product_Category    4.752475\n",
      "Product_Price       3.960396\n",
      "Customer_Age        2.970297\n",
      "Rating              4.950495\n",
      "Review_Text         4.158416\n",
      "Order_Date          1.980198\n",
      "dtype: float64\n"
     ]
    }
   ],
   "source": [
    "import pandas as pd\n",
    "file_path = \"Day 20_E-Commerce_Data.csv\" \n",
    "df = pd.read_csv(file_path)\n",
    "print(df.info())\n",
    "missing_values = df.isna().sum()\n",
    "missing_percentage = (missing_values / len(df)) * 100\n",
    "print(\"\\nMissing Values Count:\\n\", missing_values)\n",
    "print(\"\\nMissing Values Percentage:\\n\", missing_percentage)\n"
   ]
  },
  {
   "cell_type": "code",
   "execution_count": null,
   "id": "90cc4b2b",
   "metadata": {},
   "outputs": [],
   "source": []
  }
 ],
 "metadata": {
  "kernelspec": {
   "display_name": "Python 3 (ipykernel)",
   "language": "python",
   "name": "python3"
  },
  "language_info": {
   "codemirror_mode": {
    "name": "ipython",
    "version": 3
   },
   "file_extension": ".py",
   "mimetype": "text/x-python",
   "name": "python",
   "nbconvert_exporter": "python",
   "pygments_lexer": "ipython3",
   "version": "3.11.5"
  }
 },
 "nbformat": 4,
 "nbformat_minor": 5
}
