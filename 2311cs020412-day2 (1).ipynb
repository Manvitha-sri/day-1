{
 "cells": [
  {
   "cell_type": "code",
   "execution_count": 1,
   "id": "60e61b3e",
   "metadata": {},
   "outputs": [
    {
     "name": "stdout",
     "output_type": "stream",
     "text": [
      "List Elements:\n",
      "First element: 10\n",
      "Last element: 50\n",
      "\n",
      "Tuple Elements:\n",
      "Second element: 200\n",
      "Fourth element: 400\n",
      "\n",
      "Dictionary Elements:\n",
      "Value of 'apple': 10\n",
      "Value of 'cherry': 30\n"
     ]
    }
   ],
   "source": [
    "my_list = [10, 20, 30, 40, 50]\n",
    "my_tuple = (100, 200, 300, 400, 500)\n",
    "my_dict = {\"apple\": 10, \"banana\": 20, \"cherry\": 30, \"date\": 40, \"elderberry\": 50}\n",
    "print(\"List Elements:\")\n",
    "print(\"First element:\", my_list[0])  \n",
    "print(\"Last element:\", my_list[-1])  \n",
    "print(\"\\nTuple Elements:\")\n",
    "print(\"Second element:\", my_tuple[1])  \n",
    "print(\"Fourth element:\", my_tuple[3])  \n",
    "print(\"\\nDictionary Elements:\")\n",
    "print(\"Value of 'apple':\", my_dict[\"apple\"]) \n",
    "print(\"Value of 'cherry':\", my_dict[\"cherry\"])  \n"
   ]
  },
  {
   "cell_type": "code",
   "execution_count": null,
   "id": "8b4bed00",
   "metadata": {},
   "outputs": [],
   "source": []
  }
 ],
 "metadata": {
  "kernelspec": {
   "display_name": "Python 3 (ipykernel)",
   "language": "python",
   "name": "python3"
  },
  "language_info": {
   "codemirror_mode": {
    "name": "ipython",
    "version": 3
   },
   "file_extension": ".py",
   "mimetype": "text/x-python",
   "name": "python",
   "nbconvert_exporter": "python",
   "pygments_lexer": "ipython3",
   "version": "3.11.5"
  }
 },
 "nbformat": 4,
 "nbformat_minor": 5
}
