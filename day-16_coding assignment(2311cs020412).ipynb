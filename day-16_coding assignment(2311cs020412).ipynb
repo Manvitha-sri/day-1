{
 "cells": [
  {
   "cell_type": "code",
   "execution_count": 5,
   "id": "2cd1fd65",
   "metadata": {},
   "outputs": [
    {
     "name": "stdout",
     "output_type": "stream",
     "text": [
      "Missing Values Before Handling:\n",
      "Patient_ID        0\n",
      "Age               0\n",
      "Gender           21\n",
      "BloodPressure    30\n",
      "Cholesterol      20\n",
      "Diabetes          0\n",
      "Heart_Disease     0\n",
      "dtype: int64\n",
      "Total Duplicates: 5\n"
     ]
    },
    {
     "data": {
      "image/png": "[encoded data removed]",
      "text/plain": [
       "<Figure size 1000x600 with 1 Axes>"
      ]
     },
     "metadata": {},
     "output_type": "display_data"
    },
    {
     "name": "stdout",
     "output_type": "stream",
     "text": [
      "Missing Values After Handling:\n",
      "Patient_ID        0\n",
      "Age               0\n",
      "Gender            0\n",
      "BloodPressure     0\n",
      "Cholesterol      20\n",
      "Diabetes          0\n",
      "Heart_Disease     0\n",
      "dtype: int64\n",
      "Total Duplicates After Cleaning: 0\n",
      "Data Types:\n",
      "Patient_ID         int64\n",
      "Age              float64\n",
      "Gender             int64\n",
      "BloodPressure    float64\n",
      "Cholesterol      float64\n",
      "Diabetes          object\n",
      "Heart_Disease     object\n",
      "dtype: object\n",
      "Cleaned dataset saved successfully!\n"
     ]
    }
   ],
   "source": [
    "import pandas as pd\n",
    "import numpy as np\n",
    "from sklearn.preprocessing import MinMaxScaler, StandardScaler\n",
    "import matplotlib.pyplot as plt\n",
    "import seaborn as sns\n",
    "\n",
    "# Load the Dataset\n",
    "file_path = \"Day_16_Healthcare_Data.csv\"\n",
    "df = pd.read_csv(file_path)\n",
    "\n",
    "# Rename columns to standardize naming\n",
    "df.rename(columns={'Blood_Pressure': 'BloodPressure'}, inplace=True)\n",
    "\n",
    "# Handle Missing Data\n",
    "print(\"Missing Values Before Handling:\")\n",
    "print(df.isnull().sum())\n",
    "\n",
    "df.fillna({\n",
    "    'Age': df['Age'].median(),\n",
    "    'Gender': df['Gender'].mode()[0],\n",
    "    'BloodPressure': df['BloodPressure'].median()\n",
    "}, inplace=True)\n",
    "\n",
    "# Detect and Handle Duplicates\n",
    "duplicates = df.duplicated()\n",
    "print(f\"Total Duplicates: {duplicates.sum()}\")\n",
    "df = df.drop_duplicates()\n",
    "\n",
    "# Detect and Handle Outliers\n",
    "plt.figure(figsize=(10,6))\n",
    "sns.boxplot(data=df[['Age', 'BloodPressure']])\n",
    "plt.show()\n",
    "\n",
    "# Capping outliers\n",
    "for col in ['Age', 'BloodPressure']:\n",
    "    q1 = df[col].quantile(0.25)\n",
    "    q3 = df[col].quantile(0.75)\n",
    "    iqr = q3 - q1\n",
    "    lower_bound = q1 - 1.5 * iqr\n",
    "    upper_bound = q3 + 1.5 * iqr\n",
    "    df[col] = np.clip(df[col], lower_bound, upper_bound)\n",
    "\n",
    "# Standardize and Normalize Data\n",
    "# Convert categorical variables to numerical\n",
    "df['Gender'] = df['Gender'].map({'Male': 0, 'Female': 1})\n",
    "\n",
    "# Scale numerical data\n",
    "scaler = MinMaxScaler()\n",
    "df[['Age', 'BloodPressure']] = scaler.fit_transform(df[['Age', 'BloodPressure']])\n",
    "\n",
    "# Data Validation\n",
    "print(\"Missing Values After Handling:\")\n",
    "print(df.isnull().sum())\n",
    "print(\"Total Duplicates After Cleaning:\", df.duplicated().sum())\n",
    "print(\"Data Types:\")\n",
    "print(df.dtypes)\n",
    "\n",
    "# Final Data Export\n",
    "df.to_csv(\"cleaned_healthcare_data.csv\", index=False)\n",
    "print(\"Cleaned dataset saved successfully!\")\n"
   ]
  },
  {
   "cell_type": "code",
   "execution_count": null,
   "id": "09040d15",
   "metadata": {},
   "outputs": [],
   "source": []
  }
 ],
 "metadata": {
  "kernelspec": {
   "display_name": "Python 3 (ipykernel)",
   "language": "python",
   "name": "python3"
  },
  "language_info": {
   "codemirror_mode": {
    "name": "ipython",
    "version": 3
   },
   "file_extension": ".py",
   "mimetype": "text/x-python",
   "name": "python",
   "nbconvert_exporter": "python",
   "pygments_lexer": "ipython3",
   "version": "3.11.5"
  }
 },
 "nbformat": 4,
 "nbformat_minor": 5
}
